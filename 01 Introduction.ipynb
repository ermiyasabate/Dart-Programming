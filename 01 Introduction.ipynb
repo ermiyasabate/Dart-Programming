{
 "cells": [
  {
   "cell_type": "markdown",
   "metadata": {},
   "source": [
    "# Introduction\n",
    "Dart is an open-source programming language development of web and mobile applications.\n",
    "\n",
    "It was developed by Google.\n",
    "\n",
    "With Dart, you can develop web, mobile,and desktop applications\n",
    "\n",
    "Dart syntax is similar to C, javascript, and Java languages."
   ]
  },
  {
   "cell_type": "code",
   "execution_count": null,
   "metadata": {},
   "outputs": [],
   "source": []
  }
 ],
 "metadata": {
  "language_info": {
   "name": "python"
  }
 },
 "nbformat": 4,
 "nbformat_minor": 2
}
